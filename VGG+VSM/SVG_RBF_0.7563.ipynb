{
  "cells": [
    {
      "cell_type": "code",
      "execution_count": null,
      "metadata": {
        "colab": {
          "base_uri": "https://localhost:8080/"
        },
        "id": "46F9ZwsVSWNN",
        "outputId": "83e5f695-5650-4d29-fe7e-66ef1f39d219"
      },
      "outputs": [
        {
          "name": "stdout",
          "output_type": "stream",
          "text": [
            "fatal: destination path 'rapidsai-csp-utils' already exists and is not an empty directory.\n",
            "Installing RAPIDS remaining 25.04 libraries\n",
            "Using Python 3.11.11 environment at: /usr\n",
            "Audited 11 packages in 465ms\n",
            "\n",
            "        ***********************************************************************\n",
            "        The pip install of RAPIDS is complete.\n",
            "\n",
            "        Please do not run any further installation from the conda based installation methods, as they may cause issues!\n",
            "\n",
            "        Please ensure that you're pulling from the git repo to remain updated with the latest working install scripts.\n",
            "\n",
            "        Troubleshooting:\n",
            "            - If there is an installation failure, please check back on RAPIDSAI owned templates/notebooks to see how to update your personal files.\n",
            "            - If an installation failure persists when using the latest script, please make an issue on https://github.com/rapidsai-community/rapidsai-csp-utils\n",
            "        ***********************************************************************\n",
            "        \n"
          ]
        }
      ],
      "source": [
        "# for SVM on GPU\n",
        "!git clone https://github.com/rapidsai/rapidsai-csp-utils.git\n",
        "!python rapidsai-csp-utils/colab/pip-install.py"
      ]
    },
    {
      "cell_type": "code",
      "execution_count": 2,
      "metadata": {
        "id": "gkTKW7WhR1Gu"
      },
      "outputs": [],
      "source": [
        "import numpy as np\n",
        "from sklearn.metrics import accuracy_score, precision_score, recall_score, f1_score\n",
        "from sklearn.model_selection import train_test_split\n",
        "from sklearn.preprocessing import StandardScaler\n",
        "import cupy as cp\n",
        "from cuml.svm import SVC\n",
        "from cuml.metrics import accuracy_score\n",
        "import joblib\n",
        "import cupy as cp\n",
        "import numpy as np"
      ]
    },
    {
      "cell_type": "code",
      "execution_count": 3,
      "metadata": {
        "id": "p-uBM4f1R5Os"
      },
      "outputs": [],
      "source": [
        "data_train = np.load(\"/content/drive/MyDrive/Deep_learning/Tamrin2/VGGFeature/train_features.npz\")\n",
        "X_train = cp.asarray(data_train['features'])\n",
        "y_train = cp.asarray(data_train['labels'])\n",
        "data_test = np.load(\"/content/drive/MyDrive/Deep_learning/Tamrin2/VGGFeature/test_features.npz\")\n",
        "X_test = cp.asarray(data_test['features'])\n",
        "y_test = cp.asarray(data_test['labels'])"
      ]
    },
    {
      "cell_type": "code",
      "execution_count": 4,
      "metadata": {
        "id": "4z-I-DuYR68G"
      },
      "outputs": [],
      "source": [
        "del data_train\n",
        "del data_test"
      ]
    },
    {
      "cell_type": "code",
      "execution_count": 5,
      "metadata": {
        "id": "sOJWtwSbSDM0"
      },
      "outputs": [],
      "source": [
        "model = SVC(kernel='rbf')\n",
        "model.fit(X_train, y_train)\n",
        "y_pred = model.predict(X_test)"
      ]
    },
    {
      "cell_type": "code",
      "execution_count": 7,
      "metadata": {
        "colab": {
          "base_uri": "https://localhost:8080/"
        },
        "id": "XNGXSVmJUP4i",
        "outputId": "a568f759-5c0d-4176-8c98-3698740687f4"
      },
      "outputs": [
        {
          "name": "stdout",
          "output_type": "stream",
          "text": [
            "Accuracy  : 0.7563\n",
            "Precision : 0.7598\n",
            "Recall    : 0.7563\n",
            "F1 Score  : 0.7573\n"
          ]
        }
      ],
      "source": [
        "y_pred = cp.asnumpy(y_pred)\n",
        "y_test = cp.asnumpy(y_test)\n",
        "acc = accuracy_score(y_test, y_pred)\n",
        "prec = precision_score(y_test, y_pred, average='macro')\n",
        "rec = recall_score(y_test, y_pred, average='macro')\n",
        "f1 = f1_score(y_test, y_pred, average='macro')\n",
        "\n",
        "print(f\"Accuracy  : {acc:.4f}\")\n",
        "print(f\"Precision : {prec:.4f}\")\n",
        "print(f\"Recall    : {rec:.4f}\")\n",
        "print(f\"F1 Score  : {f1:.4f}\")"
      ]
    },
    {
      "cell_type": "code",
      "execution_count": 8,
      "metadata": {
        "id": "qtl0dc5-a4q8"
      },
      "outputs": [],
      "source": [
        "np.save(\"/content/drive/MyDrive/y_pred_RBF.npy\", y_pred)"
      ]
    }
  ],
  "metadata": {
    "accelerator": "GPU",
    "colab": {
      "gpuType": "T4",
      "provenance": []
    },
    "kernelspec": {
      "display_name": "Python 3",
      "name": "python3"
    },
    "language_info": {
      "name": "python"
    }
  },
  "nbformat": 4,
  "nbformat_minor": 0
}
